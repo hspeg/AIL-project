{
 "cells": [
  {
   "cell_type": "code",
   "execution_count": 77,
   "id": "3be8f051",
   "metadata": {},
   "outputs": [],
   "source": [
    "import pandas as pd\n",
    "from pandas import DataFrame as df\n",
    "import numpy as np\n",
    "import seaborn as sns\n",
    "import matplotlib.pyplot as plt"
   ]
  },
  {
   "cell_type": "markdown",
   "id": "81a4b241",
   "metadata": {},
   "source": [
    "# Loading the data"
   ]
  },
  {
   "cell_type": "code",
   "execution_count": 78,
   "id": "519f6a88",
   "metadata": {},
   "outputs": [
    {
     "data": {
      "text/html": [
       "<div>\n",
       "<style scoped>\n",
       "    .dataframe tbody tr th:only-of-type {\n",
       "        vertical-align: middle;\n",
       "    }\n",
       "\n",
       "    .dataframe tbody tr th {\n",
       "        vertical-align: top;\n",
       "    }\n",
       "\n",
       "    .dataframe thead th {\n",
       "        text-align: right;\n",
       "    }\n",
       "</style>\n",
       "<table border=\"1\" class=\"dataframe\">\n",
       "  <thead>\n",
       "    <tr style=\"text-align: right;\">\n",
       "      <th></th>\n",
       "      <th>Age</th>\n",
       "      <th>Year_of_op</th>\n",
       "      <th>Nbr_of_nodes</th>\n",
       "      <th>Surv_status</th>\n",
       "    </tr>\n",
       "  </thead>\n",
       "  <tbody>\n",
       "    <tr>\n",
       "      <th>0</th>\n",
       "      <td>30</td>\n",
       "      <td>64</td>\n",
       "      <td>1</td>\n",
       "      <td>1</td>\n",
       "    </tr>\n",
       "    <tr>\n",
       "      <th>1</th>\n",
       "      <td>30</td>\n",
       "      <td>62</td>\n",
       "      <td>3</td>\n",
       "      <td>1</td>\n",
       "    </tr>\n",
       "    <tr>\n",
       "      <th>2</th>\n",
       "      <td>30</td>\n",
       "      <td>65</td>\n",
       "      <td>0</td>\n",
       "      <td>1</td>\n",
       "    </tr>\n",
       "    <tr>\n",
       "      <th>3</th>\n",
       "      <td>31</td>\n",
       "      <td>59</td>\n",
       "      <td>2</td>\n",
       "      <td>1</td>\n",
       "    </tr>\n",
       "    <tr>\n",
       "      <th>4</th>\n",
       "      <td>31</td>\n",
       "      <td>65</td>\n",
       "      <td>4</td>\n",
       "      <td>1</td>\n",
       "    </tr>\n",
       "  </tbody>\n",
       "</table>\n",
       "</div>"
      ],
      "text/plain": [
       "   Age  Year_of_op  Nbr_of_nodes  Surv_status\n",
       "0   30          64             1            1\n",
       "1   30          62             3            1\n",
       "2   30          65             0            1\n",
       "3   31          59             2            1\n",
       "4   31          65             4            1"
      ]
     },
     "execution_count": 78,
     "metadata": {},
     "output_type": "execute_result"
    }
   ],
   "source": [
    "data = pd.read_csv(\"haberman.csv\")\n",
    "data.head()"
   ]
  },
  {
   "cell_type": "markdown",
   "id": "f9fd475d",
   "metadata": {},
   "source": [
    "# Preprocessing the data"
   ]
  },
  {
   "cell_type": "markdown",
   "id": "fd7992a4",
   "metadata": {},
   "source": [
    "We preprocess the data same way we did in the project one which consisted the removement of outliers (too high values in Number of node column), balancing the data, normalizing the data, recoding the output variable and dividing the data into training and testing set."
   ]
  },
  {
   "cell_type": "markdown",
   "id": "2293220f",
   "metadata": {},
   "source": [
    "**- Removing the outliers:**"
   ]
  },
  {
   "cell_type": "code",
   "execution_count": 79,
   "id": "ae440487",
   "metadata": {},
   "outputs": [
    {
     "name": "stdout",
     "output_type": "stream",
     "text": [
      "Observations with too high value in Number of node column:\n",
      "      Age  Year_of_op  Nbr_of_nodes  Surv_status\n",
      "62    43          58            52            2\n",
      "174   54          67            46            1\n",
      "215   59          62            35            2\n"
     ]
    }
   ],
   "source": [
    "a = data[data[\"Nbr_of_nodes\"] > 30]\n",
    "print(\"Observations with too high value in Number of node column:\\n\", a)"
   ]
  },
  {
   "cell_type": "code",
   "execution_count": 80,
   "id": "54861665",
   "metadata": {},
   "outputs": [],
   "source": [
    "# removing those three observations:\n",
    "data = data.drop([62, 174, 215])"
   ]
  },
  {
   "cell_type": "markdown",
   "id": "474b1050",
   "metadata": {},
   "source": [
    "**- Recoding the output variable (Survival status):**"
   ]
  },
  {
   "cell_type": "code",
   "execution_count": 81,
   "id": "62b1651f",
   "metadata": {},
   "outputs": [],
   "source": [
    "data[\"Surv_status\"] = data[\"Surv_status\"].replace([1, 2], [0, 1])"
   ]
  },
  {
   "cell_type": "markdown",
   "id": "fa1bb07e",
   "metadata": {},
   "source": [
    "**- Dividing the data into training and testing sets:**"
   ]
  },
  {
   "cell_type": "code",
   "execution_count": 82,
   "id": "7e211033",
   "metadata": {},
   "outputs": [
    {
     "name": "stdout",
     "output_type": "stream",
     "text": [
      "Train set size: (212, 3)\n",
      "Test set size: (91, 3)\n"
     ]
    }
   ],
   "source": [
    "from sklearn.model_selection import train_test_split\n",
    "x_train, x_test, y_train, y_test = train_test_split(data.drop(columns=[\"Surv_status\"]), data[\"Surv_status\"],\n",
    "                                                   test_size=0.3, random_state=50, stratify=data[\"Surv_status\"])\n",
    "print(\"Train set size:\", x_train.shape)\n",
    "print(\"Test set size:\", x_test.shape)"
   ]
  },
  {
   "cell_type": "code",
   "execution_count": 83,
   "id": "81bc3a1f",
   "metadata": {},
   "outputs": [
    {
     "name": "stdout",
     "output_type": "stream",
     "text": [
      "Train output values:\n",
      "0    157\n",
      "1     55\n",
      "Name: Surv_status, dtype: int64\n",
      "\n",
      "Test output values:\n",
      "0    67\n",
      "1    24\n",
      "Name: Surv_status, dtype: int64\n"
     ]
    }
   ],
   "source": [
    "print(\"Train output values:\\n\" + str(y_train.value_counts()))\n",
    "print(\"\\nTest output values:\\n\" + str(y_test.value_counts()))"
   ]
  },
  {
   "cell_type": "markdown",
   "id": "d04d61b8",
   "metadata": {},
   "source": [
    "**- Balancing the data (using SMOTE method):**"
   ]
  },
  {
   "cell_type": "code",
   "execution_count": 84,
   "id": "95273fee",
   "metadata": {},
   "outputs": [
    {
     "name": "stdout",
     "output_type": "stream",
     "text": [
      "Train set output size:\n",
      "0    157\n",
      "1    157\n",
      "Name: Surv_status, dtype: int64\n",
      "\n",
      "Test set output size:\n",
      "0    67\n",
      "1    67\n",
      "Name: Surv_status, dtype: int64\n"
     ]
    }
   ],
   "source": [
    "from imblearn.over_sampling import SMOTE \n",
    "sm = SMOTE(random_state=5)\n",
    "x_train, y_train = sm.fit_resample(x_train, y_train)\n",
    "x_test, y_test = sm.fit_resample(x_test, y_test)\n",
    "print(\"Train set output size:\\n\" + str(y_train.value_counts()))\n",
    "print(\"\\nTest set output size:\\n\" + str(y_test.value_counts()))"
   ]
  },
  {
   "cell_type": "markdown",
   "id": "6ba96f74",
   "metadata": {},
   "source": [
    "**- Normalizing the data:**"
   ]
  },
  {
   "cell_type": "code",
   "execution_count": 85,
   "id": "d350bfb1",
   "metadata": {},
   "outputs": [],
   "source": [
    "from sklearn.preprocessing import StandardScaler\n",
    "scaler = StandardScaler()\n",
    "scaler.fit(x_train)\n",
    "x_train = scaler.transform(x_train)\n",
    "x_test = scaler.transform(x_test)"
   ]
  },
  {
   "cell_type": "markdown",
   "id": "40fcfffb",
   "metadata": {},
   "source": [
    "# Models"
   ]
  },
  {
   "cell_type": "markdown",
   "id": "12d35d4e",
   "metadata": {},
   "source": [
    "After implementing and analyzing the parametric models (project one) we implement five non-parametric models and analyze their performance. We are going to implement three supervised learning models and two unsupervised learning models, which are K-Nearest Neighbours, Boosted trees, Artificial neural network, K-Means and DBSCAN. K-Means and DBSCAN models are unsupervised learning models.\n",
    "\n",
    "After implementing the models we will analyze and compare their performance and pick the best one."
   ]
  },
  {
   "cell_type": "markdown",
   "id": "1af1efae",
   "metadata": {},
   "source": [
    "# 1. K-NN"
   ]
  },
  {
   "cell_type": "markdown",
   "id": "2b7b0b43",
   "metadata": {},
   "source": [
    "We start with K-nearest neighbors classifier which is supervised learning model. The way how the model works is that it tries to find the cluster centroids from the data whom it uses to predict new data's classes. \n",
    "\n",
    "Before starting to train model we have to guess how many classes we have in our data. In our case we don't have to guess because our output variable has only two classes so our model should also have two classes."
   ]
  },
  {
   "cell_type": "code",
   "execution_count": 86,
   "id": "c351052f",
   "metadata": {},
   "outputs": [
    {
     "name": "stdout",
     "output_type": "stream",
     "text": [
      "**K-NN METRICS:**\n",
      "tn: 59 , fp: 8 , fn: 52 , tp: 15\n",
      "Accuracy: 0.55\n",
      "Sensitivity: 0.88\n",
      "                         precision    recall  f1-score   support\n",
      "\n",
      "surv. status >= 5 years       0.53      0.88      0.66        67\n",
      " surv. status < 5 years       0.65      0.22      0.33        67\n",
      "\n",
      "               accuracy                           0.55       134\n",
      "              macro avg       0.59      0.55      0.50       134\n",
      "           weighted avg       0.59      0.55      0.50       134\n",
      "\n"
     ]
    },
    {
     "data": {
      "image/png": "[encoded data removed]",
      "text/plain": [
       "<Figure size 640x480 with 1 Axes>"
      ]
     },
     "metadata": {},
     "output_type": "display_data"
    }
   ],
   "source": [
    "from sklearn.neighbors import KNeighborsClassifier\n",
    "knn_model = KNeighborsClassifier(n_neighbors=2).fit(x_train, y_train)\n",
    "y_pred = knn_model.predict(x_test)\n",
    "y_pred_prob = knn_model.predict_proba(x_test)\n",
    "\n",
    "# evaluation metrics\n",
    "print(\"**K-NN METRICS:**\")\n",
    "from sklearn.metrics import confusion_matrix\n",
    "cm_knn = confusion_matrix(y_test, y_pred)\n",
    "\n",
    "tn_knn, fp_knn, fn_knn, tp_knn = confusion_matrix(y_test, y_pred).ravel()\n",
    "print(\"tn:\", tn_n, \",\", \"fp:\", fp_n, \",\", \"fn:\", fn_n, \",\", \"tp:\", tp_n)\n",
    "\n",
    "# accuracy\n",
    "from sklearn.metrics import accuracy_score\n",
    "accuracy_knn = accuracy_score(y_test, y_pred)\n",
    "print(\"Accuracy:\", round(accuracy_n, 2))\n",
    "\n",
    "# sensitivity\n",
    "from sklearn.metrics import recall_score\n",
    "sensitivity_knn = recall_score(y_test, y_pred)\n",
    "print(\"Sensitivity:\", round(sensitivity_n, 2))\n",
    "\n",
    "# classification report\n",
    "from sklearn.metrics import classification_report\n",
    "names = [\"surv. status >= 5 years\", \"surv. status < 5 years\"]\n",
    "print(classification_report(y_test, y_pred, target_names=names))\n",
    "\n",
    "# ROC curve and AUC\n",
    "from sklearn.metrics import roc_curve, auc\n",
    "fpr_knn, tpr_knn, treshold_knn = roc_curve(y_test, y_pred_prob[:,1])\n",
    "auc_knn = auc(fpr_knn, tpr_knn)\n",
    "\n",
    "# plotting\n",
    "import matplotlib.pyplot as plt\n",
    "plt.plot([0, 1], [0, 1], 'r--')\n",
    "plt.plot(fpr_knn, tpr_knn, \"b\", label=\"AUC: \"+str(round(auc_knn, 3)))\n",
    "plt.legend(loc='lower right')\n",
    "plt.xlim([0, 1]), plt.ylim([0, 1])\n",
    "plt.title(\"ROC of K-NN\")\n",
    "plt.xlabel(\"False positive rate\"), plt.ylabel(\"True positive rate\")\n",
    "plt.show()"
   ]
  },
  {
   "cell_type": "markdown",
   "id": "e83a28cb",
   "metadata": {},
   "source": [
    "# 2. Gradient boosting trees"
   ]
  },
  {
   "cell_type": "code",
   "execution_count": null,
   "id": "3e1e6c08",
   "metadata": {},
   "outputs": [],
   "source": [
    "from sklearn.ensemble import GradientBoostingClassifier\n",
    "mode = GradientBoostingClassifier(random_state=5)\n"
   ]
  }
 ],
 "metadata": {
  "kernelspec": {
   "display_name": "Python 3 (ipykernel)",
   "language": "python",
   "name": "python3"
  },
  "language_info": {
   "codemirror_mode": {
    "name": "ipython",
    "version": 3
   },
   "file_extension": ".py",
   "mimetype": "text/x-python",
   "name": "python",
   "nbconvert_exporter": "python",
   "pygments_lexer": "ipython3",
   "version": "3.7.8"
  }
 },
 "nbformat": 4,
 "nbformat_minor": 5
}
