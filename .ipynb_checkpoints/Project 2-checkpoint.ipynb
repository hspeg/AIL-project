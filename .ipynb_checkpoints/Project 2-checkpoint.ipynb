{
 "cells": [
  {
   "cell_type": "code",
   "execution_count": 1,
   "id": "3be8f051",
   "metadata": {},
   "outputs": [],
   "source": [
    "import pandas as pd\n",
    "from pandas import DataFrame as df\n",
    "import numpy as np\n",
    "import seaborn as sns\n",
    "import matplotlib\n",
    "from matplotlib import pyplot as plt"
   ]
  },
  {
   "cell_type": "markdown",
   "id": "81a4b241",
   "metadata": {},
   "source": [
    "# Loading the data"
   ]
  },
  {
   "cell_type": "code",
   "execution_count": 2,
   "id": "519f6a88",
   "metadata": {},
   "outputs": [
    {
     "data": {
      "text/html": [
       "<div>\n",
       "<style scoped>\n",
       "    .dataframe tbody tr th:only-of-type {\n",
       "        vertical-align: middle;\n",
       "    }\n",
       "\n",
       "    .dataframe tbody tr th {\n",
       "        vertical-align: top;\n",
       "    }\n",
       "\n",
       "    .dataframe thead th {\n",
       "        text-align: right;\n",
       "    }\n",
       "</style>\n",
       "<table border=\"1\" class=\"dataframe\">\n",
       "  <thead>\n",
       "    <tr style=\"text-align: right;\">\n",
       "      <th></th>\n",
       "      <th>Age</th>\n",
       "      <th>Year_of_op</th>\n",
       "      <th>Nbr_of_nodes</th>\n",
       "      <th>Surv_status</th>\n",
       "    </tr>\n",
       "  </thead>\n",
       "  <tbody>\n",
       "    <tr>\n",
       "      <th>0</th>\n",
       "      <td>30</td>\n",
       "      <td>64</td>\n",
       "      <td>1</td>\n",
       "      <td>1</td>\n",
       "    </tr>\n",
       "    <tr>\n",
       "      <th>1</th>\n",
       "      <td>30</td>\n",
       "      <td>62</td>\n",
       "      <td>3</td>\n",
       "      <td>1</td>\n",
       "    </tr>\n",
       "    <tr>\n",
       "      <th>2</th>\n",
       "      <td>30</td>\n",
       "      <td>65</td>\n",
       "      <td>0</td>\n",
       "      <td>1</td>\n",
       "    </tr>\n",
       "    <tr>\n",
       "      <th>3</th>\n",
       "      <td>31</td>\n",
       "      <td>59</td>\n",
       "      <td>2</td>\n",
       "      <td>1</td>\n",
       "    </tr>\n",
       "    <tr>\n",
       "      <th>4</th>\n",
       "      <td>31</td>\n",
       "      <td>65</td>\n",
       "      <td>4</td>\n",
       "      <td>1</td>\n",
       "    </tr>\n",
       "  </tbody>\n",
       "</table>\n",
       "</div>"
      ],
      "text/plain": [
       "   Age  Year_of_op  Nbr_of_nodes  Surv_status\n",
       "0   30          64             1            1\n",
       "1   30          62             3            1\n",
       "2   30          65             0            1\n",
       "3   31          59             2            1\n",
       "4   31          65             4            1"
      ]
     },
     "execution_count": 2,
     "metadata": {},
     "output_type": "execute_result"
    }
   ],
   "source": [
    "data = pd.read_csv(\"haberman.csv\")\n",
    "data.head()"
   ]
  },
  {
   "cell_type": "markdown",
   "id": "f9fd475d",
   "metadata": {},
   "source": [
    "# Preprocessing the data"
   ]
  },
  {
   "cell_type": "markdown",
   "id": "fd7992a4",
   "metadata": {},
   "source": [
    "We preprocess the data same way we did in the project one which consisted the removement of outliers (too high values in Number of node column), balancing the data, normalizing the data and dividing the data into training and testing set."
   ]
  },
  {
   "cell_type": "markdown",
   "id": "2293220f",
   "metadata": {},
   "source": [
    "**- Removing the outliers:**"
   ]
  },
  {
   "cell_type": "code",
   "execution_count": 4,
   "id": "ae440487",
   "metadata": {},
   "outputs": [
    {
     "name": "stdout",
     "output_type": "stream",
     "text": [
      "Observations with too high value in Number of node column:\n",
      "      Age  Year_of_op  Nbr_of_nodes  Surv_status\n",
      "62    43          58            52            2\n",
      "174   54          67            46            1\n",
      "215   59          62            35            2\n"
     ]
    }
   ],
   "source": [
    "a = data[data[\"Nbr_of_nodes\"] > 30]\n",
    "print(\"Observations with too high value in Number of node column:\\n\", a)"
   ]
  },
  {
   "cell_type": "code",
   "execution_count": 5,
   "id": "54861665",
   "metadata": {},
   "outputs": [],
   "source": [
    "# removing those three observations:\n",
    "data = data.drop([62, 174, 215])"
   ]
  },
  {
   "cell_type": "markdown",
   "id": "fa1bb07e",
   "metadata": {},
   "source": [
    "**- Dividing the data into training and testing sets:**"
   ]
  },
  {
   "cell_type": "code",
   "execution_count": 22,
   "id": "7e211033",
   "metadata": {},
   "outputs": [
    {
     "name": "stdout",
     "output_type": "stream",
     "text": [
      "Train set size: (212, 3)\n",
      "Test set size: (91, 3)\n"
     ]
    }
   ],
   "source": [
    "from sklearn.model_selection import train_test_split\n",
    "x_train, x_test, y_train, y_test = train_test_split(data.drop([\"Surv_status\"], axis=1), data[\"Surv_status\"],\n",
    "                                                   test_size=0.3, random_state=50, stratify=data[\"Surv_status\"])\n",
    "print(\"Train set size:\", x_train.shape)\n",
    "print(\"Test set size:\", x_test.shape)"
   ]
  },
  {
   "cell_type": "code",
   "execution_count": 23,
   "id": "81bc3a1f",
   "metadata": {},
   "outputs": [
    {
     "name": "stdout",
     "output_type": "stream",
     "text": [
      "Train output values:\n",
      "1    157\n",
      "2     55\n",
      "Name: Surv_status, dtype: int64\n",
      "\n",
      "Test output values:\n",
      "1    67\n",
      "2    24\n",
      "Name: Surv_status, dtype: int64\n"
     ]
    }
   ],
   "source": [
    "print(\"Train output values:\\n\" + str(y_train.value_counts()))\n",
    "print(\"\\nTest output values:\\n\" + str(y_test.value_counts()))"
   ]
  },
  {
   "cell_type": "markdown",
   "id": "d04d61b8",
   "metadata": {},
   "source": [
    "**- Balancing the data (using SMOTE method):**"
   ]
  },
  {
   "cell_type": "code",
   "execution_count": 26,
   "id": "95273fee",
   "metadata": {},
   "outputs": [
    {
     "name": "stdout",
     "output_type": "stream",
     "text": [
      "Train set output size:\n",
      "1    157\n",
      "2    157\n",
      "Name: Surv_status, dtype: int64\n",
      "\n",
      "Test set output size:\n",
      "1    67\n",
      "2    67\n",
      "Name: Surv_status, dtype: int64\n"
     ]
    }
   ],
   "source": [
    "from imblearn.over_sampling import SMOTE \n",
    "sm = SMOTE(random_state=5)\n",
    "x_train, y_train = sm.fit_resample(x_train, y_train)\n",
    "x_test, y_test = sm.fit_resample(x_test, y_test)\n",
    "print(\"Train set output size:\\n\" + str(y_train.value_counts()))\n",
    "print(\"\\nTest set output size:\\n\" + str(y_test.value_counts()))"
   ]
  },
  {
   "cell_type": "markdown",
   "id": "6ba96f74",
   "metadata": {},
   "source": [
    "**- Normalizing the data:**"
   ]
  },
  {
   "cell_type": "code",
   "execution_count": 27,
   "id": "d350bfb1",
   "metadata": {},
   "outputs": [],
   "source": [
    "from sklearn.preprocessing import StandardScaler\n",
    "scaler = StandardScaler()\n",
    "scaler.fit(x_train)\n",
    "x_train = scaler.transform(x_train)\n",
    "x_test = scaler.transform(x_test)"
   ]
  },
  {
   "cell_type": "markdown",
   "id": "40fcfffb",
   "metadata": {},
   "source": [
    "# Models"
   ]
  },
  {
   "cell_type": "markdown",
   "id": "12d35d4e",
   "metadata": {},
   "source": [
    "After implementing and analyzing the parametric models (project one) we implement five non-parametric models and analyze their performance. We are going to implement three supervised learning models and two unsupervised learning models, which are K-Nearest Neighbours, Boosted trees, Artificial neural network, K-Means and DBSCAN. K-Means and DBSCAN models are unsupervised learning models.\n",
    "\n",
    "After implementing the models we will analyze and compare their performance and pick the best one."
   ]
  },
  {
   "cell_type": "markdown",
   "id": "1af1efae",
   "metadata": {},
   "source": [
    "***- K-NN***"
   ]
  },
  {
   "cell_type": "code",
   "execution_count": null,
   "id": "6fa7dd5b",
   "metadata": {},
   "outputs": [],
   "source": []
  }
 ],
 "metadata": {
  "kernelspec": {
   "display_name": "Python 3 (ipykernel)",
   "language": "python",
   "name": "python3"
  },
  "language_info": {
   "codemirror_mode": {
    "name": "ipython",
    "version": 3
   },
   "file_extension": ".py",
   "mimetype": "text/x-python",
   "name": "python",
   "nbconvert_exporter": "python",
   "pygments_lexer": "ipython3",
   "version": "3.7.8"
  }
 },
 "nbformat": 4,
 "nbformat_minor": 5
}
